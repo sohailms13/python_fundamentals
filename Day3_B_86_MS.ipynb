{
 "cells": [
  {
   "cell_type": "code",
   "execution_count": 1,
   "id": "f9c95de9-605a-4052-8076-be21a513d379",
   "metadata": {},
   "outputs": [],
   "source": [
    "#general syntax of f string:"
   ]
  },
  {
   "cell_type": "code",
   "execution_count": 11,
   "id": "f73694bf-2b80-45d8-ae7c-f868c2460cb6",
   "metadata": {},
   "outputs": [],
   "source": [
    "firstname = 'MohaMmaD'\n",
    "lastname = 'SoHaIl'"
   ]
  },
  {
   "cell_type": "code",
   "execution_count": 8,
   "id": "cf43b1b0-237a-431e-a885-9539cb0a69b1",
   "metadata": {},
   "outputs": [],
   "source": [
    "#req : want to get full name"
   ]
  },
  {
   "cell_type": "code",
   "execution_count": 12,
   "id": "54191a80-866b-43f2-9158-b995874853e7",
   "metadata": {},
   "outputs": [
    {
     "name": "stdout",
     "output_type": "stream",
     "text": [
      "MohaMmaD SoHaIl\n"
     ]
    }
   ],
   "source": [
    "fullname = f\"{firstname} {lastname}\"\n",
    "print(fullname)"
   ]
  },
  {
   "cell_type": "code",
   "execution_count": 13,
   "id": "f974b081-4eca-4c85-a4c2-8f829b131de5",
   "metadata": {},
   "outputs": [
    {
     "name": "stdout",
     "output_type": "stream",
     "text": [
      "Mohammad Sohail\n"
     ]
    }
   ],
   "source": [
    "print(fullname.title())"
   ]
  },
  {
   "cell_type": "code",
   "execution_count": 14,
   "id": "b84afec5-51fb-4c15-be31-308d3daf4eb3",
   "metadata": {},
   "outputs": [
    {
     "name": "stdout",
     "output_type": "stream",
     "text": [
      "MOHAMMAD SOHAIL\n"
     ]
    }
   ],
   "source": [
    "print(fullname.upper())"
   ]
  },
  {
   "cell_type": "code",
   "execution_count": 30,
   "id": "065e627e-ba90-4644-9927-12362cf24f6f",
   "metadata": {},
   "outputs": [
    {
     "name": "stdout",
     "output_type": "stream",
     "text": [
      "keep up the good work, (fullname.title())\n"
     ]
    }
   ],
   "source": [
    "message = f\"keep up the good work, (fullname.title())\"   #not getting my name in output any reason??????Can you please check my code\n",
    "print(message)"
   ]
  },
  {
   "cell_type": "code",
   "execution_count": 27,
   "id": "f1e002c4-a078-4d73-bff7-fc27e066bc67",
   "metadata": {},
   "outputs": [],
   "source": [
    "#delimetres"
   ]
  },
  {
   "cell_type": "code",
   "execution_count": 29,
   "id": "039b96a1-8314-4a28-8505-d92896aabaea",
   "metadata": {},
   "outputs": [
    {
     "name": "stdout",
     "output_type": "stream",
     "text": [
      "Javapythoncc++\n"
     ]
    }
   ],
   "source": [
    "favourite_language = \"Javapythoncc++\"   #normal form\n",
    "print(favourite_language)"
   ]
  },
  {
   "cell_type": "code",
   "execution_count": 31,
   "id": "340212b3-4834-4fee-80d1-e5ffd412a5f2",
   "metadata": {},
   "outputs": [
    {
     "name": "stdout",
     "output_type": "stream",
     "text": [
      "favourite_language: \n",
      "java\n",
      "python\n",
      "c\n",
      "c++\n"
     ]
    }
   ],
   "source": [
    "print(\"favourite_language: \\njava\\npython\\nc\\nc++\")   #using \\n"
   ]
  },
  {
   "cell_type": "code",
   "execution_count": 32,
   "id": "a4e8f9c0-254d-4d59-acc4-443e1884da1f",
   "metadata": {},
   "outputs": [
    {
     "name": "stdout",
     "output_type": "stream",
     "text": [
      "favourite_language: \n",
      "\tjava\n",
      "\tpython\n",
      "\tc\n",
      "\tc++\n"
     ]
    }
   ],
   "source": [
    "print(\"favourite_language: \\n\\tjava\\n\\tpython\\n\\tc\\n\\tc++\")   #using \\t"
   ]
  },
  {
   "cell_type": "code",
   "execution_count": 33,
   "id": "13e88f1d-f5a8-494a-95f8-a230685dccc3",
   "metadata": {},
   "outputs": [],
   "source": [
    "#Removing whitespaces from string"
   ]
  },
  {
   "cell_type": "code",
   "execution_count": 34,
   "id": "e7932c9d-8f35-4d95-9e3e-ce08fbaf9aeb",
   "metadata": {},
   "outputs": [
    {
     "name": "stdout",
     "output_type": "stream",
     "text": [
      "  python \n"
     ]
    }
   ],
   "source": [
    "name = \"  python \"\n",
    "print(name)"
   ]
  },
  {
   "cell_type": "code",
   "execution_count": 35,
   "id": "2b89da4d-71bf-4547-8a42-9228df0052ec",
   "metadata": {},
   "outputs": [
    {
     "name": "stdout",
     "output_type": "stream",
     "text": [
      "python   \n"
     ]
    }
   ],
   "source": [
    "name2 = \"python   \"\n",
    "print(name2)"
   ]
  },
  {
   "cell_type": "code",
   "execution_count": 36,
   "id": "21193c76-c561-4cd7-a61f-97fa078bae9c",
   "metadata": {},
   "outputs": [
    {
     "data": {
      "text/plain": [
       "'python '"
      ]
     },
     "execution_count": 36,
     "metadata": {},
     "output_type": "execute_result"
    }
   ],
   "source": [
    "name.lstrip()  #left strip"
   ]
  },
  {
   "cell_type": "code",
   "execution_count": 37,
   "id": "a0f6bd7f-f146-4db2-9693-72dad8d48d13",
   "metadata": {},
   "outputs": [
    {
     "data": {
      "text/plain": [
       "'  python'"
      ]
     },
     "execution_count": 37,
     "metadata": {},
     "output_type": "execute_result"
    }
   ],
   "source": [
    "name.rstrip()  #right strip"
   ]
  },
  {
   "cell_type": "code",
   "execution_count": null,
   "id": "50eec2c6-54a9-4d1b-ad46-5795228919b3",
   "metadata": {},
   "outputs": [],
   "source": [
    "name3 = \"  python \"\n",
    "print("
   ]
  }
 ],
 "metadata": {
  "kernelspec": {
   "display_name": "Python 3 (ipykernel)",
   "language": "python",
   "name": "python3"
  },
  "language_info": {
   "codemirror_mode": {
    "name": "ipython",
    "version": 3
   },
   "file_extension": ".py",
   "mimetype": "text/x-python",
   "name": "python",
   "nbconvert_exporter": "python",
   "pygments_lexer": "ipython3",
   "version": "3.11.7"
  }
 },
 "nbformat": 4,
 "nbformat_minor": 5
}
