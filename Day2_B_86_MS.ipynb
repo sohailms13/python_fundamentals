{
 "cells": [
  {
   "cell_type": "code",
   "execution_count": 1,
   "id": "5a2b376e-871b-4cea-87c0-8c90e2c42927",
   "metadata": {},
   "outputs": [
    {
     "name": "stdout",
     "output_type": "stream",
     "text": [
      "5\n"
     ]
    }
   ],
   "source": [
    "x=2\n",
    "y=3\n",
    "z=x+y\n",
    "print(z)"
   ]
  },
  {
   "cell_type": "code",
   "execution_count": 2,
   "id": "55b617d6-6cae-41a8-a8d6-173005e9e9df",
   "metadata": {},
   "outputs": [
    {
     "name": "stdout",
     "output_type": "stream",
     "text": [
      "sohail\n"
     ]
    }
   ],
   "source": [
    "firstname = 'sohail'\n",
    "print(firstname)"
   ]
  },
  {
   "cell_type": "code",
   "execution_count": 5,
   "id": "797913cb-b65e-467e-8ab8-3ae6f53cb63e",
   "metadata": {},
   "outputs": [
    {
     "name": "stdout",
     "output_type": "stream",
     "text": [
      "sohail\n"
     ]
    }
   ],
   "source": [
    "name1 = 'sohail'       #variable name with number\n",
    "print(name1)"
   ]
  },
  {
   "cell_type": "code",
   "execution_count": 6,
   "id": "120e9efb-a34b-4e9d-9123-8d736059004e",
   "metadata": {},
   "outputs": [
    {
     "ename": "SyntaxError",
     "evalue": "invalid syntax (3309825013.py, line 1)",
     "output_type": "error",
     "traceback": [
      "\u001b[1;36m  Cell \u001b[1;32mIn[6], line 1\u001b[1;36m\u001b[0m\n\u001b[1;33m    name@ = 'sohail'\u001b[0m\n\u001b[1;37m          ^\u001b[0m\n\u001b[1;31mSyntaxError\u001b[0m\u001b[1;31m:\u001b[0m invalid syntax\n"
     ]
    }
   ],
   "source": [
    "name@ = 'sohail'  #variable with special character\n",
    "print(name@)"
   ]
  },
  {
   "cell_type": "code",
   "execution_count": 7,
   "id": "ec10031a-9db6-40dc-8f7f-3dc425d66223",
   "metadata": {},
   "outputs": [
    {
     "name": "stdout",
     "output_type": "stream",
     "text": [
      "sohail\n"
     ]
    }
   ],
   "source": [
    "name2 = 'sohail'    #single quote\n",
    "print(name2)"
   ]
  },
  {
   "cell_type": "code",
   "execution_count": 8,
   "id": "606287a7-48b7-4d51-b589-a0cb18b17cfb",
   "metadata": {},
   "outputs": [
    {
     "name": "stdout",
     "output_type": "stream",
     "text": [
      "sohail\n"
     ]
    }
   ],
   "source": [
    "name3 = \"sohail\"  #double quote\n",
    "print(name2)"
   ]
  },
  {
   "cell_type": "code",
   "execution_count": 10,
   "id": "7e0013ca-fe57-48b8-9fcc-e89c2d175791",
   "metadata": {},
   "outputs": [
    {
     "data": {
      "text/plain": [
       "str"
      ]
     },
     "execution_count": 10,
     "metadata": {},
     "output_type": "execute_result"
    }
   ],
   "source": [
    "type(name1)"
   ]
  },
  {
   "cell_type": "code",
   "execution_count": 11,
   "id": "276737e7-bfd2-4646-b9d1-aec3cb997dd6",
   "metadata": {},
   "outputs": [
    {
     "name": "stdout",
     "output_type": "stream",
     "text": [
      "mohAmmAd SoHaiL\n"
     ]
    }
   ],
   "source": [
    "fullname = 'mohAmmAd SoHaiL'\n",
    "print (fullname)"
   ]
  },
  {
   "cell_type": "code",
   "execution_count": 12,
   "id": "69c5f8d0-3252-430e-97dc-c723022e2de2",
   "metadata": {},
   "outputs": [
    {
     "name": "stdout",
     "output_type": "stream",
     "text": [
      "Mohammad Sohail\n"
     ]
    }
   ],
   "source": [
    "fullname = 'mohAmmAd SoHaiL'  #proper \n",
    "print (fullname.title())"
   ]
  },
  {
   "cell_type": "code",
   "execution_count": 13,
   "id": "015bbf26-1335-4d45-99fd-6a3456e2db47",
   "metadata": {},
   "outputs": [
    {
     "name": "stdout",
     "output_type": "stream",
     "text": [
      "MOHAMMAD SOHAIL\n"
     ]
    }
   ],
   "source": [
    "fullname = 'mohAmmAd SoHaiL'\n",
    "print (fullname.upper())"
   ]
  },
  {
   "cell_type": "code",
   "execution_count": 14,
   "id": "2d589109-6787-4f74-a169-8434d9a54c86",
   "metadata": {},
   "outputs": [
    {
     "name": "stdout",
     "output_type": "stream",
     "text": [
      "mohammad sohail\n"
     ]
    }
   ],
   "source": [
    "fullname = 'mohAmmAd SoHaiL'\n",
    "print (fullname.lower())"
   ]
  },
  {
   "cell_type": "code",
   "execution_count": null,
   "id": "2296dc47-fa6b-4eb9-8ec2-68d8a5c57fae",
   "metadata": {},
   "outputs": [],
   "source": []
  }
 ],
 "metadata": {
  "kernelspec": {
   "display_name": "Python 3 (ipykernel)",
   "language": "python",
   "name": "python3"
  },
  "language_info": {
   "codemirror_mode": {
    "name": "ipython",
    "version": 3
   },
   "file_extension": ".py",
   "mimetype": "text/x-python",
   "name": "python",
   "nbconvert_exporter": "python",
   "pygments_lexer": "ipython3",
   "version": "3.11.7"
  }
 },
 "nbformat": 4,
 "nbformat_minor": 5
}
